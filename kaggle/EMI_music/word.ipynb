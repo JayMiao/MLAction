{
 "cells": [
  {
   "cell_type": "code",
   "execution_count": 95,
   "metadata": {
    "collapsed": false
   },
   "outputs": [],
   "source": [
    "import numpy as np\n",
    "import pandas as pd\n",
    "words = pd.read_csv('data/words.csv', sep=',')"
   ]
  },
  {
   "cell_type": "code",
   "execution_count": 96,
   "metadata": {
    "collapsed": false
   },
   "outputs": [
    {
     "data": {
      "text/plain": [
       "pandas.core.frame.DataFrame"
      ]
     },
     "execution_count": 96,
     "metadata": {},
     "output_type": "execute_result"
    }
   ],
   "source": [
    "words = words.drop(['HEARD_OF','OWN_ARTIST_MUSIC'],1)\n",
    "type(words)"
   ]
  },
  {
   "cell_type": "code",
   "execution_count": 105,
   "metadata": {
    "collapsed": false
   },
   "outputs": [
    {
     "name": "stdout",
     "output_type": "stream",
     "text": [
      "<class 'pandas.core.frame.DataFrame'>\n",
      "RangeIndex: 118301 entries, 0 to 118300\n",
      "Data columns (total 86 columns):\n",
      "Artist            118301 non-null int64\n",
      "User              118301 non-null int64\n",
      "LIKE_ARTIST       118301 non-null float64\n",
      "Uninspired        118301 non-null float64\n",
      "Sophisticated     118301 non-null float64\n",
      "Aggressive        118301 non-null float64\n",
      "Edgy              118301 non-null int64\n",
      "Sociable          118301 non-null float64\n",
      "Laid back         118301 non-null float64\n",
      "Wholesome         118301 non-null float64\n",
      "Uplifting         118301 non-null float64\n",
      "Intriguing        118301 non-null float64\n",
      "Legendary         118301 non-null float64\n",
      "Free              118301 non-null float64\n",
      "Thoughtful        118301 non-null int64\n",
      "Outspoken         118301 non-null float64\n",
      "Serious           118301 non-null float64\n",
      "Good lyrics       118301 non-null float64\n",
      "Unattractive      118301 non-null float64\n",
      "Confident         118301 non-null float64\n",
      "Old               118301 non-null float64\n",
      "Youthful          118301 non-null float64\n",
      "Boring            118301 non-null float64\n",
      "Current           118301 non-null int64\n",
      "Colourful         118301 non-null float64\n",
      "Stylish           118301 non-null int64\n",
      "Cheap             118301 non-null float64\n",
      "Irrelevant        118301 non-null float64\n",
      "Heartfelt         118301 non-null float64\n",
      "Calm              118301 non-null float64\n",
      "Pioneer           118301 non-null float64\n",
      "Outgoing          118301 non-null float64\n",
      "Inspiring         118301 non-null float64\n",
      "Beautiful         118301 non-null int64\n",
      "Fun               118301 non-null int64\n",
      "Authentic         118301 non-null int64\n",
      "Credible          118301 non-null int64\n",
      "Way out           118301 non-null float64\n",
      "Cool              118301 non-null int64\n",
      "Catchy            118301 non-null float64\n",
      "Sensitive         118301 non-null float64\n",
      "Mainstream        118301 non-null float64\n",
      "Superficial       118301 non-null float64\n",
      "Annoying          118301 non-null float64\n",
      "Dark              118301 non-null float64\n",
      "Passionate        118301 non-null int64\n",
      "Not authentic     118301 non-null float64\n",
      "Good Lyrics       118301 non-null float64\n",
      "Background        118301 non-null float64\n",
      "Timeless          118301 non-null int64\n",
      "Depressing        118301 non-null float64\n",
      "Original          118301 non-null int64\n",
      "Talented          118301 non-null int64\n",
      "Worldly           118301 non-null float64\n",
      "Distinctive       118301 non-null int64\n",
      "Approachable      118301 non-null int64\n",
      "Genius            118301 non-null float64\n",
      "Trendsetter       118301 non-null int64\n",
      "Noisy             118301 non-null float64\n",
      "Upbeat            118301 non-null float64\n",
      "Relatable         118301 non-null float64\n",
      "Energetic         118301 non-null int64\n",
      "Exciting          118301 non-null float64\n",
      "Emotional         118301 non-null float64\n",
      "Nostalgic         118301 non-null float64\n",
      "None of these     118301 non-null int64\n",
      "Progressive       118301 non-null float64\n",
      "Sexy              118301 non-null int64\n",
      "Over              118301 non-null float64\n",
      "Rebellious        118301 non-null float64\n",
      "Fake              118301 non-null float64\n",
      "Cheesy            118301 non-null float64\n",
      "Popular           118301 non-null float64\n",
      "Superstar         118301 non-null float64\n",
      "Relaxed           118301 non-null float64\n",
      "Intrusive         118301 non-null float64\n",
      "Unoriginal        118301 non-null float64\n",
      "Dated             118301 non-null float64\n",
      "Iconic            118301 non-null float64\n",
      "Unapproachable    118301 non-null float64\n",
      "Classic           118301 non-null float64\n",
      "Playful           118301 non-null float64\n",
      "Arrogant          118301 non-null float64\n",
      "Warm              118301 non-null int64\n",
      "Soulful           118301 non-null float64\n",
      "Unnamed: 87       118301 non-null float64\n",
      "dtypes: float64(64), int64(22)\n",
      "memory usage: 77.6 MB\n"
     ]
    }
   ],
   "source": [
    "words.fillna(0, inplace=True)\n",
    "words.info()"
   ]
  },
  {
   "cell_type": "code",
   "execution_count": null,
   "metadata": {
    "collapsed": false
   },
   "outputs": [],
   "source": []
  },
  {
   "cell_type": "code",
   "execution_count": null,
   "metadata": {
    "collapsed": true
   },
   "outputs": [],
   "source": []
  }
 ],
 "metadata": {
  "kernelspec": {
   "display_name": "Python 2",
   "language": "python",
   "name": "python2"
  },
  "language_info": {
   "codemirror_mode": {
    "name": "ipython",
    "version": 2
   },
   "file_extension": ".py",
   "mimetype": "text/x-python",
   "name": "python",
   "nbconvert_exporter": "python",
   "pygments_lexer": "ipython2",
   "version": "2.7.10"
  }
 },
 "nbformat": 4,
 "nbformat_minor": 0
}
